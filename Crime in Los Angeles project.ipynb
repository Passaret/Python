{
 "cells": [
  {
   "cell_type": "markdown",
   "id": "31ab2131-3049-4d8d-b9dc-d195f72af27a",
   "metadata": {},
   "source": [
    "## The Data\n",
    "\n",
    "It is a modified version of the original data, which is publicly available from Los Angeles Open Data.\n",
    "\n",
    "# crimes.csv\n",
    "\n",
    "| Column     | Description              |\n",
    "|------------|--------------------------|\n",
    "| `'DR_NO'` | Division of Records Number: Official file number made up of a 2-digit year, area ID, and 5 digits. |\n",
    "| `'Date Rptd'` | Date reported - MM/DD/YYYY. |\n",
    "| `'DATE OCC'` | Date of occurrence - MM/DD/YYYY. |\n",
    "| `'TIME OCC'` | In 24-hour military time. |\n",
    "| `'AREA NAME'` | The 21 Geographic Areas or Patrol Divisions are also given a name designation that references a landmark or the surrounding community that it is responsible for. For example, the 77th Street Division is located at the intersection of South Broadway and 77th Street, serving neighborhoods in South Los Angeles. |\n",
    "| `'Crm Cd Desc'` | Indicates the crime committed. |\n",
    "| `'Vict Age'` | Victim's age in years. |\n",
    "| `'Vict Sex'` | Victim's sex: `F`: Female, `M`: Male, `X`: Unknown. |\n",
    "| `'Vict Descent'` | Victim's descent:<ul><li>`A` - Other Asian</li><li>`B` - Black</li><li>`C` - Chinese</li><li>`D` - Cambodian</li><li>`F` - Filipino</li><li>`G` - Guamanian</li><li>`H` - Hispanic/Latin/Mexican</li><li>`I` - American Indian/Alaskan Native</li><li>`J` - Japanese</li><li>`K` - Korean</li><li>`L` - Laotian</li><li>`O` - Other</li><li>`P` - Pacific Islander</li><li>`S` - Samoan</li><li>`U` - Hawaiian</li><li>`V` - Vietnamese</li><li>`W` - White</li><li>`X` - Unknown</li><li>`Z` - Asian Indian</li> |\n",
    "| `'Weapon Desc'` | Description of the weapon used (if applicable). |\n",
    "| `'Status Desc'` | Crime status. |\n",
    "| `'LOCATION'` | Street address of the crime. |"
   ]
  },
  {
   "cell_type": "code",
   "execution_count": 3,
   "id": "7c6c3c36-5c8b-4cce-8681-95292b8f0861",
   "metadata": {
    "executionCancelledAt": null,
    "executionTime": null,
    "lastExecutedAt": null,
    "lastExecutedByKernel": null,
    "lastScheduledRunId": null,
    "lastSuccessfullyExecutedCode": null,
    "outputsMetadata": {
     "0": {
      "height": 266,
      "type": "dataFrame"
     }
    }
   },
   "outputs": [
    {
     "data": {
      "text/html": [
       "<div>\n",
       "<style scoped>\n",
       "    .dataframe tbody tr th:only-of-type {\n",
       "        vertical-align: middle;\n",
       "    }\n",
       "\n",
       "    .dataframe tbody tr th {\n",
       "        vertical-align: top;\n",
       "    }\n",
       "\n",
       "    .dataframe thead th {\n",
       "        text-align: right;\n",
       "    }\n",
       "</style>\n",
       "<table border=\"1\" class=\"dataframe\">\n",
       "  <thead>\n",
       "    <tr style=\"text-align: right;\">\n",
       "      <th></th>\n",
       "      <th>DR_NO</th>\n",
       "      <th>Date Rptd</th>\n",
       "      <th>DATE OCC</th>\n",
       "      <th>TIME OCC</th>\n",
       "      <th>AREA NAME</th>\n",
       "      <th>Crm Cd Desc</th>\n",
       "      <th>Vict Age</th>\n",
       "      <th>Vict Sex</th>\n",
       "      <th>Vict Descent</th>\n",
       "      <th>Weapon Desc</th>\n",
       "      <th>Status Desc</th>\n",
       "      <th>LOCATION</th>\n",
       "    </tr>\n",
       "  </thead>\n",
       "  <tbody>\n",
       "    <tr>\n",
       "      <th>0</th>\n",
       "      <td>220314085</td>\n",
       "      <td>2022-07-22</td>\n",
       "      <td>2020-05-12</td>\n",
       "      <td>1110</td>\n",
       "      <td>Southwest</td>\n",
       "      <td>THEFT OF IDENTITY</td>\n",
       "      <td>27</td>\n",
       "      <td>F</td>\n",
       "      <td>B</td>\n",
       "      <td>NaN</td>\n",
       "      <td>Invest Cont</td>\n",
       "      <td>2500 S  SYCAMORE                     AV</td>\n",
       "    </tr>\n",
       "    <tr>\n",
       "      <th>1</th>\n",
       "      <td>222013040</td>\n",
       "      <td>2022-08-06</td>\n",
       "      <td>2020-06-04</td>\n",
       "      <td>1620</td>\n",
       "      <td>Olympic</td>\n",
       "      <td>THEFT OF IDENTITY</td>\n",
       "      <td>60</td>\n",
       "      <td>M</td>\n",
       "      <td>H</td>\n",
       "      <td>NaN</td>\n",
       "      <td>Invest Cont</td>\n",
       "      <td>3300    SAN MARINO                   ST</td>\n",
       "    </tr>\n",
       "    <tr>\n",
       "      <th>2</th>\n",
       "      <td>220614831</td>\n",
       "      <td>2022-08-18</td>\n",
       "      <td>2020-08-17</td>\n",
       "      <td>1200</td>\n",
       "      <td>Hollywood</td>\n",
       "      <td>THEFT OF IDENTITY</td>\n",
       "      <td>28</td>\n",
       "      <td>M</td>\n",
       "      <td>H</td>\n",
       "      <td>NaN</td>\n",
       "      <td>Invest Cont</td>\n",
       "      <td>1900    TRANSIENT</td>\n",
       "    </tr>\n",
       "    <tr>\n",
       "      <th>3</th>\n",
       "      <td>231207725</td>\n",
       "      <td>2023-02-27</td>\n",
       "      <td>2020-01-27</td>\n",
       "      <td>0635</td>\n",
       "      <td>77th Street</td>\n",
       "      <td>THEFT OF IDENTITY</td>\n",
       "      <td>37</td>\n",
       "      <td>M</td>\n",
       "      <td>H</td>\n",
       "      <td>NaN</td>\n",
       "      <td>Invest Cont</td>\n",
       "      <td>6200    4TH                          AV</td>\n",
       "    </tr>\n",
       "    <tr>\n",
       "      <th>4</th>\n",
       "      <td>220213256</td>\n",
       "      <td>2022-07-14</td>\n",
       "      <td>2020-07-14</td>\n",
       "      <td>0900</td>\n",
       "      <td>Rampart</td>\n",
       "      <td>THEFT OF IDENTITY</td>\n",
       "      <td>79</td>\n",
       "      <td>M</td>\n",
       "      <td>B</td>\n",
       "      <td>NaN</td>\n",
       "      <td>Invest Cont</td>\n",
       "      <td>1200 W  7TH                          ST</td>\n",
       "    </tr>\n",
       "  </tbody>\n",
       "</table>\n",
       "</div>"
      ],
      "text/plain": [
       "       DR_NO  Date Rptd   DATE OCC TIME OCC    AREA NAME        Crm Cd Desc  \\\n",
       "0  220314085 2022-07-22 2020-05-12     1110    Southwest  THEFT OF IDENTITY   \n",
       "1  222013040 2022-08-06 2020-06-04     1620      Olympic  THEFT OF IDENTITY   \n",
       "2  220614831 2022-08-18 2020-08-17     1200    Hollywood  THEFT OF IDENTITY   \n",
       "3  231207725 2023-02-27 2020-01-27     0635  77th Street  THEFT OF IDENTITY   \n",
       "4  220213256 2022-07-14 2020-07-14     0900      Rampart  THEFT OF IDENTITY   \n",
       "\n",
       "   Vict Age Vict Sex Vict Descent Weapon Desc  Status Desc  \\\n",
       "0        27        F            B         NaN  Invest Cont   \n",
       "1        60        M            H         NaN  Invest Cont   \n",
       "2        28        M            H         NaN  Invest Cont   \n",
       "3        37        M            H         NaN  Invest Cont   \n",
       "4        79        M            B         NaN  Invest Cont   \n",
       "\n",
       "                                  LOCATION  \n",
       "0  2500 S  SYCAMORE                     AV  \n",
       "1  3300    SAN MARINO                   ST  \n",
       "2                        1900    TRANSIENT  \n",
       "3  6200    4TH                          AV  \n",
       "4  1200 W  7TH                          ST  "
      ]
     },
     "execution_count": 3,
     "metadata": {},
     "output_type": "execute_result"
    }
   ],
   "source": [
    "# Re-run this cell\n",
    "# Import required libraries\n",
    "import pandas as pd\n",
    "import numpy as np\n",
    "import matplotlib.pyplot as plt\n",
    "import seaborn as sns\n",
    "crimes = pd.read_csv(\"crimes.csv\", parse_dates=[\"Date Rptd\", \"DATE OCC\"], dtype={\"TIME OCC\": str})\n",
    "crimes.head()"
   ]
  },
  {
   "cell_type": "markdown",
   "id": "a5382f5b-c795-444e-9439-416cea30b3fa",
   "metadata": {},
   "source": [
    "## Checking Type of variables"
   ]
  },
  {
   "cell_type": "code",
   "execution_count": 4,
   "id": "53eada96-447c-46c3-9848-f4ca3de53d06",
   "metadata": {
    "chartConfig": {
     "bar": {
      "hasRoundedCorners": true,
      "stacked": false
     },
     "type": "bar",
     "version": "v1"
    },
    "executionCancelledAt": null,
    "executionTime": 177,
    "lastExecutedAt": 1731004173498,
    "lastExecutedByKernel": "fb4bfd39-2627-44da-bcd8-699e9fee8410",
    "lastScheduledRunId": null,
    "lastSuccessfullyExecutedCode": "crimes.info()",
    "outputsMetadata": {
     "0": {
      "height": 416,
      "type": "stream"
     }
    },
    "visualizeDataframe": false
   },
   "outputs": [
    {
     "name": "stdout",
     "output_type": "stream",
     "text": [
      "<class 'pandas.core.frame.DataFrame'>\n",
      "RangeIndex: 185715 entries, 0 to 185714\n",
      "Data columns (total 12 columns):\n",
      " #   Column        Non-Null Count   Dtype         \n",
      "---  ------        --------------   -----         \n",
      " 0   DR_NO         185715 non-null  int64         \n",
      " 1   Date Rptd     185715 non-null  datetime64[ns]\n",
      " 2   DATE OCC      185715 non-null  datetime64[ns]\n",
      " 3   TIME OCC      185715 non-null  object        \n",
      " 4   AREA NAME     185715 non-null  object        \n",
      " 5   Crm Cd Desc   185715 non-null  object        \n",
      " 6   Vict Age      185715 non-null  int64         \n",
      " 7   Vict Sex      185704 non-null  object        \n",
      " 8   Vict Descent  185705 non-null  object        \n",
      " 9   Weapon Desc   73502 non-null   object        \n",
      " 10  Status Desc   185715 non-null  object        \n",
      " 11  LOCATION      185715 non-null  object        \n",
      "dtypes: datetime64[ns](2), int64(2), object(8)\n",
      "memory usage: 17.0+ MB\n"
     ]
    }
   ],
   "source": [
    "crimes.info()"
   ]
  },
  {
   "cell_type": "markdown",
   "id": "5dc12ffc-7275-49d6-b0bd-2d907ee510f2",
   "metadata": {},
   "source": [
    "# 1° Question"
   ]
  },
  {
   "cell_type": "markdown",
   "id": "b88412f1-2424-4e08-93f6-3e30be2ddfcb",
   "metadata": {},
   "source": [
    "### Transforming 'TIME OCC' in datetime"
   ]
  },
  {
   "cell_type": "code",
   "execution_count": 5,
   "id": "4eb3e584-c0ac-4dc5-ae70-2f3597878110",
   "metadata": {
    "executionCancelledAt": null,
    "executionTime": 102,
    "lastExecutedAt": 1731005199630,
    "lastExecutedByKernel": "fb4bfd39-2627-44da-bcd8-699e9fee8410",
    "lastScheduledRunId": null,
    "lastSuccessfullyExecutedCode": "crimes['TIME OCC'] = pd.to_datetime(crimes['TIME OCC'], format = '%H%M').dt.time\ncrimes['HOUR'] = crimes['TIME OCC'].apply(lambda time: time.hour)",
    "outputsMetadata": {
     "0": {
      "height": 543,
      "type": "dataFrame"
     }
    }
   },
   "outputs": [],
   "source": [
    "crimes['TIME OCC'] = pd.to_datetime(crimes['TIME OCC'], format = '%H%M').dt.time\n",
    "crimes['HOUR'] = crimes['TIME OCC'].apply(lambda time: time.hour)"
   ]
  },
  {
   "cell_type": "markdown",
   "id": "53a0ef2e-1ae0-4ff9-a4e3-c933ee3b1125",
   "metadata": {},
   "source": [
    "### Transforming 'DATE OCC' in Day of Week"
   ]
  },
  {
   "cell_type": "code",
   "execution_count": 6,
   "id": "7bb8f6d3-4d79-4e3b-aa17-9120354fb81c",
   "metadata": {
    "executionCancelledAt": null,
    "executionTime": 212,
    "lastExecutedAt": 1731005196979,
    "lastExecutedByKernel": "fb4bfd39-2627-44da-bcd8-699e9fee8410",
    "lastScheduledRunId": null,
    "lastSuccessfullyExecutedCode": "crimes['DAY OF WEEK'] = crimes['DATE OCC'].apply(lambda time: time.dayofweek)\ndmap = {0:'Mon',1:'Tue',2:'Wed',3:'Thu',4:'Fri',5:'Sat',6:'Sun'}\ncrimes['DAY OF WEEK'] = crimes['DAY OF WEEK'].map(dmap)\n\nday_order = ['Mon', 'Tue', 'Wed', 'Thu', 'Fri', 'Sat', 'Sun']\ncrimes['DAY OF WEEK'] = pd.Categorical(crimes['DAY OF WEEK'], categories=day_order, ordered=True)",
    "outputsMetadata": {
     "0": {
      "height": 543,
      "type": "dataFrame"
     }
    }
   },
   "outputs": [
    {
     "data": {
      "text/html": [
       "<div>\n",
       "<style scoped>\n",
       "    .dataframe tbody tr th:only-of-type {\n",
       "        vertical-align: middle;\n",
       "    }\n",
       "\n",
       "    .dataframe tbody tr th {\n",
       "        vertical-align: top;\n",
       "    }\n",
       "\n",
       "    .dataframe thead th {\n",
       "        text-align: right;\n",
       "    }\n",
       "</style>\n",
       "<table border=\"1\" class=\"dataframe\">\n",
       "  <thead>\n",
       "    <tr style=\"text-align: right;\">\n",
       "      <th></th>\n",
       "      <th>DR_NO</th>\n",
       "      <th>Date Rptd</th>\n",
       "      <th>DATE OCC</th>\n",
       "      <th>TIME OCC</th>\n",
       "      <th>AREA NAME</th>\n",
       "      <th>Crm Cd Desc</th>\n",
       "      <th>Vict Age</th>\n",
       "      <th>Vict Sex</th>\n",
       "      <th>Vict Descent</th>\n",
       "      <th>Weapon Desc</th>\n",
       "      <th>Status Desc</th>\n",
       "      <th>LOCATION</th>\n",
       "      <th>HOUR</th>\n",
       "      <th>DAY OF WEEK</th>\n",
       "    </tr>\n",
       "  </thead>\n",
       "  <tbody>\n",
       "    <tr>\n",
       "      <th>0</th>\n",
       "      <td>220314085</td>\n",
       "      <td>2022-07-22</td>\n",
       "      <td>2020-05-12</td>\n",
       "      <td>11:10:00</td>\n",
       "      <td>Southwest</td>\n",
       "      <td>THEFT OF IDENTITY</td>\n",
       "      <td>27</td>\n",
       "      <td>F</td>\n",
       "      <td>B</td>\n",
       "      <td>NaN</td>\n",
       "      <td>Invest Cont</td>\n",
       "      <td>2500 S  SYCAMORE                     AV</td>\n",
       "      <td>11</td>\n",
       "      <td>Tue</td>\n",
       "    </tr>\n",
       "    <tr>\n",
       "      <th>1</th>\n",
       "      <td>222013040</td>\n",
       "      <td>2022-08-06</td>\n",
       "      <td>2020-06-04</td>\n",
       "      <td>16:20:00</td>\n",
       "      <td>Olympic</td>\n",
       "      <td>THEFT OF IDENTITY</td>\n",
       "      <td>60</td>\n",
       "      <td>M</td>\n",
       "      <td>H</td>\n",
       "      <td>NaN</td>\n",
       "      <td>Invest Cont</td>\n",
       "      <td>3300    SAN MARINO                   ST</td>\n",
       "      <td>16</td>\n",
       "      <td>Thu</td>\n",
       "    </tr>\n",
       "    <tr>\n",
       "      <th>2</th>\n",
       "      <td>220614831</td>\n",
       "      <td>2022-08-18</td>\n",
       "      <td>2020-08-17</td>\n",
       "      <td>12:00:00</td>\n",
       "      <td>Hollywood</td>\n",
       "      <td>THEFT OF IDENTITY</td>\n",
       "      <td>28</td>\n",
       "      <td>M</td>\n",
       "      <td>H</td>\n",
       "      <td>NaN</td>\n",
       "      <td>Invest Cont</td>\n",
       "      <td>1900    TRANSIENT</td>\n",
       "      <td>12</td>\n",
       "      <td>Mon</td>\n",
       "    </tr>\n",
       "    <tr>\n",
       "      <th>3</th>\n",
       "      <td>231207725</td>\n",
       "      <td>2023-02-27</td>\n",
       "      <td>2020-01-27</td>\n",
       "      <td>06:35:00</td>\n",
       "      <td>77th Street</td>\n",
       "      <td>THEFT OF IDENTITY</td>\n",
       "      <td>37</td>\n",
       "      <td>M</td>\n",
       "      <td>H</td>\n",
       "      <td>NaN</td>\n",
       "      <td>Invest Cont</td>\n",
       "      <td>6200    4TH                          AV</td>\n",
       "      <td>6</td>\n",
       "      <td>Mon</td>\n",
       "    </tr>\n",
       "    <tr>\n",
       "      <th>4</th>\n",
       "      <td>220213256</td>\n",
       "      <td>2022-07-14</td>\n",
       "      <td>2020-07-14</td>\n",
       "      <td>09:00:00</td>\n",
       "      <td>Rampart</td>\n",
       "      <td>THEFT OF IDENTITY</td>\n",
       "      <td>79</td>\n",
       "      <td>M</td>\n",
       "      <td>B</td>\n",
       "      <td>NaN</td>\n",
       "      <td>Invest Cont</td>\n",
       "      <td>1200 W  7TH                          ST</td>\n",
       "      <td>9</td>\n",
       "      <td>Tue</td>\n",
       "    </tr>\n",
       "  </tbody>\n",
       "</table>\n",
       "</div>"
      ],
      "text/plain": [
       "       DR_NO  Date Rptd   DATE OCC  TIME OCC    AREA NAME        Crm Cd Desc  \\\n",
       "0  220314085 2022-07-22 2020-05-12  11:10:00    Southwest  THEFT OF IDENTITY   \n",
       "1  222013040 2022-08-06 2020-06-04  16:20:00      Olympic  THEFT OF IDENTITY   \n",
       "2  220614831 2022-08-18 2020-08-17  12:00:00    Hollywood  THEFT OF IDENTITY   \n",
       "3  231207725 2023-02-27 2020-01-27  06:35:00  77th Street  THEFT OF IDENTITY   \n",
       "4  220213256 2022-07-14 2020-07-14  09:00:00      Rampart  THEFT OF IDENTITY   \n",
       "\n",
       "   Vict Age Vict Sex Vict Descent Weapon Desc  Status Desc  \\\n",
       "0        27        F            B         NaN  Invest Cont   \n",
       "1        60        M            H         NaN  Invest Cont   \n",
       "2        28        M            H         NaN  Invest Cont   \n",
       "3        37        M            H         NaN  Invest Cont   \n",
       "4        79        M            B         NaN  Invest Cont   \n",
       "\n",
       "                                  LOCATION  HOUR DAY OF WEEK  \n",
       "0  2500 S  SYCAMORE                     AV    11         Tue  \n",
       "1  3300    SAN MARINO                   ST    16         Thu  \n",
       "2                        1900    TRANSIENT    12         Mon  \n",
       "3  6200    4TH                          AV     6         Mon  \n",
       "4  1200 W  7TH                          ST     9         Tue  "
      ]
     },
     "execution_count": 6,
     "metadata": {},
     "output_type": "execute_result"
    }
   ],
   "source": [
    "crimes['DAY OF WEEK'] = crimes['DATE OCC'].apply(lambda time: time.dayofweek)\n",
    "dmap = {0:'Mon',1:'Tue',2:'Wed',3:'Thu',4:'Fri',5:'Sat',6:'Sun'}\n",
    "crimes['DAY OF WEEK'] = crimes['DAY OF WEEK'].map(dmap)\n",
    "\n",
    "day_order = ['Mon', 'Tue', 'Wed', 'Thu', 'Fri', 'Sat', 'Sun']\n",
    "crimes['DAY OF WEEK'] = pd.Categorical(crimes['DAY OF WEEK'], categories=day_order, ordered=True)\n",
    "crimes.head()"
   ]
  },
  {
   "cell_type": "markdown",
   "id": "01217560-6a2b-49f2-8426-10488a7fa77f",
   "metadata": {},
   "source": [
    "## **Peak Crime Hour**"
   ]
  },
  {
   "cell_type": "code",
   "execution_count": 7,
   "id": "9cc99c09-30d6-41ca-af11-4d02756ae5e1",
   "metadata": {
    "executionCancelledAt": 1731004173725,
    "executionTime": 49,
    "lastExecutedAt": 1731003811755,
    "lastExecutedByKernel": "fb4bfd39-2627-44da-bcd8-699e9fee8410",
    "lastScheduledRunId": null,
    "lastSuccessfullyExecutedCode": "peak_crime_hour = crimes['HOUR'].value_counts().idxmax()\nprint(peak_crime_hour)",
    "outputsMetadata": {
     "0": {
      "height": 38,
      "type": "stream"
     }
    }
   },
   "outputs": [
    {
     "name": "stdout",
     "output_type": "stream",
     "text": [
      "12\n"
     ]
    }
   ],
   "source": [
    "peak_crime_hour = crimes['HOUR'].value_counts().idxmax()\n",
    "print(peak_crime_hour)"
   ]
  },
  {
   "cell_type": "markdown",
   "id": "16c1a46d-0612-4844-a833-95ba30617439",
   "metadata": {},
   "source": [
    "## **Peak Crime Hour Plot**"
   ]
  },
  {
   "cell_type": "code",
   "execution_count": 8,
   "id": "d46e5516-ef76-4a30-bd5f-48b075699d06",
   "metadata": {
    "executionCancelledAt": 1731004173726,
    "executionTime": 680,
    "lastExecutedAt": 1731003812435,
    "lastExecutedByKernel": "fb4bfd39-2627-44da-bcd8-699e9fee8410",
    "lastScheduledRunId": null,
    "lastSuccessfullyExecutedCode": "order_hour = crimes['HOUR'].value_counts().index\n\nsns.countplot(x= 'HOUR', data = crimes, hue = 'HOUR', order= order_hour, palette = 'viridis')"
   },
   "outputs": [
    {
     "data": {
      "text/plain": [
       "<Axes: xlabel='HOUR', ylabel='count'>"
      ]
     },
     "execution_count": 8,
     "metadata": {},
     "output_type": "execute_result"
    },
    {
     "data": {
      "image/png": "[encoded data removed]",
      "text/plain": [
       "<Figure size 640x480 with 1 Axes>"
      ]
     },
     "metadata": {},
     "output_type": "display_data"
    }
   ],
   "source": [
    "order_hour = crimes['HOUR'].value_counts().index\n",
    "\n",
    "sns.countplot(data = crimes, x= 'HOUR', palette = 'viridis', order= order_hour)"
   ]
  },
  {
   "cell_type": "markdown",
   "id": "c251a707-75fb-4067-9645-eab8d6d37bdc",
   "metadata": {},
   "source": [
    "## **Peak Crime Hour Heatmap**"
   ]
  },
  {
   "cell_type": "code",
   "execution_count": 22,
   "id": "80a97e0a-4c0e-4eac-a30b-928d14315faa",
   "metadata": {
    "executionCancelledAt": null,
    "executionTime": null,
    "lastExecutedAt": null,
    "lastExecutedByKernel": null,
    "lastScheduledRunId": null,
    "lastSuccessfullyExecutedCode": null,
    "outputsMetadata": {
     "0": {
      "height": 266,
      "type": "dataFrame"
     }
    }
   },
   "outputs": [
    {
     "data": {
      "text/html": [
       "<div>\n",
       "<style scoped>\n",
       "    .dataframe tbody tr th:only-of-type {\n",
       "        vertical-align: middle;\n",
       "    }\n",
       "\n",
       "    .dataframe tbody tr th {\n",
       "        vertical-align: top;\n",
       "    }\n",
       "\n",
       "    .dataframe thead th {\n",
       "        text-align: right;\n",
       "    }\n",
       "</style>\n",
       "<table border=\"1\" class=\"dataframe\">\n",
       "  <thead>\n",
       "    <tr style=\"text-align: right;\">\n",
       "      <th>HOUR</th>\n",
       "      <th>0</th>\n",
       "      <th>1</th>\n",
       "      <th>2</th>\n",
       "      <th>3</th>\n",
       "      <th>4</th>\n",
       "      <th>5</th>\n",
       "      <th>6</th>\n",
       "      <th>7</th>\n",
       "      <th>8</th>\n",
       "      <th>9</th>\n",
       "      <th>...</th>\n",
       "      <th>14</th>\n",
       "      <th>15</th>\n",
       "      <th>16</th>\n",
       "      <th>17</th>\n",
       "      <th>18</th>\n",
       "      <th>19</th>\n",
       "      <th>20</th>\n",
       "      <th>21</th>\n",
       "      <th>22</th>\n",
       "      <th>23</th>\n",
       "    </tr>\n",
       "    <tr>\n",
       "      <th>DAY OF WEEK</th>\n",
       "      <th></th>\n",
       "      <th></th>\n",
       "      <th></th>\n",
       "      <th></th>\n",
       "      <th></th>\n",
       "      <th></th>\n",
       "      <th></th>\n",
       "      <th></th>\n",
       "      <th></th>\n",
       "      <th></th>\n",
       "      <th></th>\n",
       "      <th></th>\n",
       "      <th></th>\n",
       "      <th></th>\n",
       "      <th></th>\n",
       "      <th></th>\n",
       "      <th></th>\n",
       "      <th></th>\n",
       "      <th></th>\n",
       "      <th></th>\n",
       "      <th></th>\n",
       "    </tr>\n",
       "  </thead>\n",
       "  <tbody>\n",
       "    <tr>\n",
       "      <th>Mon</th>\n",
       "      <td>1128</td>\n",
       "      <td>739</td>\n",
       "      <td>639</td>\n",
       "      <td>544</td>\n",
       "      <td>443</td>\n",
       "      <td>443</td>\n",
       "      <td>739</td>\n",
       "      <td>801</td>\n",
       "      <td>1082</td>\n",
       "      <td>1022</td>\n",
       "      <td>...</td>\n",
       "      <td>1236</td>\n",
       "      <td>1263</td>\n",
       "      <td>1260</td>\n",
       "      <td>1462</td>\n",
       "      <td>1429</td>\n",
       "      <td>1295</td>\n",
       "      <td>1323</td>\n",
       "      <td>1145</td>\n",
       "      <td>1196</td>\n",
       "      <td>916</td>\n",
       "    </tr>\n",
       "    <tr>\n",
       "      <th>Tue</th>\n",
       "      <td>1097</td>\n",
       "      <td>612</td>\n",
       "      <td>530</td>\n",
       "      <td>474</td>\n",
       "      <td>428</td>\n",
       "      <td>398</td>\n",
       "      <td>727</td>\n",
       "      <td>805</td>\n",
       "      <td>1092</td>\n",
       "      <td>1076</td>\n",
       "      <td>...</td>\n",
       "      <td>1216</td>\n",
       "      <td>1313</td>\n",
       "      <td>1298</td>\n",
       "      <td>1361</td>\n",
       "      <td>1440</td>\n",
       "      <td>1258</td>\n",
       "      <td>1287</td>\n",
       "      <td>1142</td>\n",
       "      <td>1088</td>\n",
       "      <td>917</td>\n",
       "    </tr>\n",
       "    <tr>\n",
       "      <th>Wed</th>\n",
       "      <td>1148</td>\n",
       "      <td>674</td>\n",
       "      <td>513</td>\n",
       "      <td>517</td>\n",
       "      <td>429</td>\n",
       "      <td>406</td>\n",
       "      <td>829</td>\n",
       "      <td>869</td>\n",
       "      <td>1149</td>\n",
       "      <td>1035</td>\n",
       "      <td>...</td>\n",
       "      <td>1302</td>\n",
       "      <td>1351</td>\n",
       "      <td>1346</td>\n",
       "      <td>1539</td>\n",
       "      <td>1488</td>\n",
       "      <td>1424</td>\n",
       "      <td>1361</td>\n",
       "      <td>1214</td>\n",
       "      <td>1080</td>\n",
       "      <td>905</td>\n",
       "    </tr>\n",
       "    <tr>\n",
       "      <th>Thu</th>\n",
       "      <td>1282</td>\n",
       "      <td>692</td>\n",
       "      <td>576</td>\n",
       "      <td>468</td>\n",
       "      <td>449</td>\n",
       "      <td>468</td>\n",
       "      <td>935</td>\n",
       "      <td>816</td>\n",
       "      <td>1212</td>\n",
       "      <td>1086</td>\n",
       "      <td>...</td>\n",
       "      <td>1326</td>\n",
       "      <td>1378</td>\n",
       "      <td>1282</td>\n",
       "      <td>1405</td>\n",
       "      <td>1513</td>\n",
       "      <td>1337</td>\n",
       "      <td>1372</td>\n",
       "      <td>1236</td>\n",
       "      <td>1165</td>\n",
       "      <td>1038</td>\n",
       "    </tr>\n",
       "    <tr>\n",
       "      <th>Fri</th>\n",
       "      <td>1260</td>\n",
       "      <td>773</td>\n",
       "      <td>626</td>\n",
       "      <td>542</td>\n",
       "      <td>437</td>\n",
       "      <td>463</td>\n",
       "      <td>895</td>\n",
       "      <td>825</td>\n",
       "      <td>1142</td>\n",
       "      <td>1070</td>\n",
       "      <td>...</td>\n",
       "      <td>1337</td>\n",
       "      <td>1534</td>\n",
       "      <td>1517</td>\n",
       "      <td>1571</td>\n",
       "      <td>1542</td>\n",
       "      <td>1470</td>\n",
       "      <td>1554</td>\n",
       "      <td>1345</td>\n",
       "      <td>1347</td>\n",
       "      <td>1283</td>\n",
       "    </tr>\n",
       "  </tbody>\n",
       "</table>\n",
       "<p>5 rows × 24 columns</p>\n",
       "</div>"
      ],
      "text/plain": [
       "HOUR           0    1    2    3    4    5    6    7     8     9   ...    14  \\\n",
       "DAY OF WEEK                                                       ...         \n",
       "Mon          1128  739  639  544  443  443  739  801  1082  1022  ...  1236   \n",
       "Tue          1097  612  530  474  428  398  727  805  1092  1076  ...  1216   \n",
       "Wed          1148  674  513  517  429  406  829  869  1149  1035  ...  1302   \n",
       "Thu          1282  692  576  468  449  468  935  816  1212  1086  ...  1326   \n",
       "Fri          1260  773  626  542  437  463  895  825  1142  1070  ...  1337   \n",
       "\n",
       "HOUR           15    16    17    18    19    20    21    22    23  \n",
       "DAY OF WEEK                                                        \n",
       "Mon          1263  1260  1462  1429  1295  1323  1145  1196   916  \n",
       "Tue          1313  1298  1361  1440  1258  1287  1142  1088   917  \n",
       "Wed          1351  1346  1539  1488  1424  1361  1214  1080   905  \n",
       "Thu          1378  1282  1405  1513  1337  1372  1236  1165  1038  \n",
       "Fri          1534  1517  1571  1542  1470  1554  1345  1347  1283  \n",
       "\n",
       "[5 rows x 24 columns]"
      ]
     },
     "execution_count": 22,
     "metadata": {},
     "output_type": "execute_result"
    }
   ],
   "source": [
    "dayHour = crimes.groupby(by=['DAY OF WEEK','HOUR'], observed=False).count()['Status Desc'].unstack()\n",
    "dayHour.head()"
   ]
  },
  {
   "cell_type": "code",
   "execution_count": 23,
   "id": "8179a609-2f44-4780-a524-c7de2c7ad04f",
   "metadata": {
    "executionCancelledAt": null,
    "executionTime": 531,
    "lastExecutedAt": 1731005273083,
    "lastExecutedByKernel": "fb4bfd39-2627-44da-bcd8-699e9fee8410",
    "lastScheduledRunId": null,
    "lastSuccessfullyExecutedCode": "plt.figure(figsize=(12,6))\nsns.heatmap(dayHour,cmap='viridis')\n\nplt.title('Heatmap of Crimes by Day of Week and Hour')\nplt.xlabel('Hour of the Day')\nplt.ylabel('Day of the Week')"
   },
   "outputs": [
    {
     "data": {
      "text/plain": [
       "Text(120.72222222222221, 0.5, 'Day of the Week')"
      ]
     },
     "execution_count": 23,
     "metadata": {},
     "output_type": "execute_result"
    },
    {
     "data": {
      "image/png": "[encoded data removed]",
      "text/plain": [
       "<Figure size 1200x600 with 2 Axes>"
      ]
     },
     "metadata": {},
     "output_type": "display_data"
    }
   ],
   "source": [
    "plt.figure(figsize=(12,6))\n",
    "sns.heatmap(dayHour,cmap='viridis')\n",
    "\n",
    "plt.title('Heatmap of Crimes by Day of Week and Hour')\n",
    "plt.xlabel('Hour of the Day')\n",
    "plt.ylabel('Day of the Week')"
   ]
  },
  {
   "cell_type": "markdown",
   "id": "c61746ee-b4e9-4d4f-a2fd-b67496449b25",
   "metadata": {},
   "source": [
    "# 2° Question"
   ]
  },
  {
   "cell_type": "markdown",
   "id": "d1caadf4-b5ae-4cb6-ac29-5d44a9b3ffa4",
   "metadata": {},
   "source": [
    "### Filtering the night_crimes period"
   ]
  },
  {
   "cell_type": "code",
   "execution_count": 11,
   "id": "ca2fc64b-b652-4bb5-9999-14998d11247c",
   "metadata": {
    "executionCancelledAt": 1731004173727,
    "executionTime": 107,
    "lastExecutedAt": 1731003812542,
    "lastExecutedByKernel": "fb4bfd39-2627-44da-bcd8-699e9fee8410",
    "lastScheduledRunId": null,
    "lastSuccessfullyExecutedCode": "night_crimes = crimes[(crimes['TIME OCC'].apply(lambda x: x.hour >= 22)) | \n       (crimes['TIME OCC'].apply(lambda x: x.hour < 4))]",
    "outputsMetadata": {
     "0": {
      "height": 543,
      "type": "dataFrame"
     }
    }
   },
   "outputs": [],
   "source": [
    "night_crimes = crimes[(crimes['TIME OCC'].apply(lambda x: x.hour >= 22)) | \n",
    "       (crimes['TIME OCC'].apply(lambda x: x.hour < 4))]"
   ]
  },
  {
   "cell_type": "markdown",
   "id": "2348fc2e-c84c-4b39-aa21-b1056cf01f20",
   "metadata": {},
   "source": [
    "## **peak night crime location**"
   ]
  },
  {
   "cell_type": "code",
   "execution_count": 12,
   "id": "7dbbf17e-2fb5-4817-8484-a902634316c8",
   "metadata": {
    "executionCancelledAt": 1731004173728,
    "executionTime": 56,
    "lastExecutedAt": 1731003812600,
    "lastExecutedByKernel": "fb4bfd39-2627-44da-bcd8-699e9fee8410",
    "lastScheduledRunId": null,
    "lastSuccessfullyExecutedCode": "peak_night_crime_location = night_crimes['AREA NAME'].value_counts().idxmax()\nprint(peak_night_crime_location)",
    "outputsMetadata": {
     "0": {
      "height": 38,
      "type": "stream"
     }
    }
   },
   "outputs": [
    {
     "name": "stdout",
     "output_type": "stream",
     "text": [
      "Central\n"
     ]
    }
   ],
   "source": [
    "peak_night_crime_location = night_crimes['AREA NAME'].value_counts().idxmax()\n",
    "print(peak_night_crime_location)"
   ]
  },
  {
   "cell_type": "markdown",
   "id": "38cacd8e-e2b6-48b9-8fb4-d2b2b7135703",
   "metadata": {},
   "source": [
    "## **Peak Night Crime Location Plot**"
   ]
  },
  {
   "cell_type": "code",
   "execution_count": 18,
   "id": "cd9f0506-baff-474f-9b36-1a88cfb9177b",
   "metadata": {
    "executionCancelledAt": 1731004173729,
    "executionTime": 709,
    "lastExecutedAt": 1731003813309,
    "lastExecutedByKernel": "fb4bfd39-2627-44da-bcd8-699e9fee8410",
    "lastScheduledRunId": null,
    "lastSuccessfullyExecutedCode": "order_area = crimes['AREA NAME'].value_counts().index\n\nplt.figure(figsize=(21,8))\nsns.countplot(data = night_crimes, x = 'AREA NAME', hue= 'AREA NAME', order= order_area, palette='viridis')"
   },
   "outputs": [
    {
     "data": {
      "text/plain": [
       "<Axes: xlabel='AREA NAME', ylabel='count'>"
      ]
     },
     "execution_count": 18,
     "metadata": {},
     "output_type": "execute_result"
    },
    {
     "data": {
      "image/png": "[encoded data removed]",
      "text/plain": [
       "<Figure size 2100x800 with 1 Axes>"
      ]
     },
     "metadata": {},
     "output_type": "display_data"
    }
   ],
   "source": [
    "order_area = crimes['AREA NAME'].value_counts().index\n",
    "\n",
    "plt.figure(figsize=(21,8))\n",
    "sns.countplot(data = night_crimes, x = 'AREA NAME',  order= order_area, palette='viridis')"
   ]
  },
  {
   "cell_type": "markdown",
   "id": "3a3455aa-c91f-4758-8c95-df0cfb752dcf",
   "metadata": {},
   "source": [
    "# 3° Question"
   ]
  },
  {
   "cell_type": "markdown",
   "id": "b4bfcc7e-3263-4236-ac9a-45f053c5e689",
   "metadata": {},
   "source": [
    "### Filtering Age Groups"
   ]
  },
  {
   "cell_type": "code",
   "execution_count": 14,
   "id": "52eb9616-930f-4eb1-ab7e-fc7ec33cd506",
   "metadata": {
    "executionCancelledAt": 1731004173730,
    "executionTime": 54,
    "lastExecutedAt": 1731003813363,
    "lastExecutedByKernel": "fb4bfd39-2627-44da-bcd8-699e9fee8410",
    "lastScheduledRunId": null,
    "lastSuccessfullyExecutedCode": "def age_group_func(age):\n    if 0 < age < 18:\n        return \"0-17\"\n    elif 18 <= age < 26:\n        return \"18-25\"\n    elif 26 <= age < 35:\n        return \"26-34\"\n    elif 35 <= age < 45:\n        return \"35-44\"\n    elif 45 <= age < 55:\n        return \"45-54\"\n    elif 55 <= age < 65:\n        return \"55-64\"\n    else:\n        return \"65+\""
   },
   "outputs": [],
   "source": [
    "def age_group_func(age):\n",
    "    if 0 < age < 18:\n",
    "        return \"0-17\"\n",
    "    elif 18 <= age < 26:\n",
    "        return \"18-25\"\n",
    "    elif 26 <= age < 35:\n",
    "        return \"26-34\"\n",
    "    elif 35 <= age < 45:\n",
    "        return \"35-44\"\n",
    "    elif 45 <= age < 55:\n",
    "        return \"45-54\"\n",
    "    elif 55 <= age < 65:\n",
    "        return \"55-64\"\n",
    "    else:\n",
    "        return \"65+\""
   ]
  },
  {
   "cell_type": "code",
   "execution_count": 15,
   "id": "54ba5f15-52a3-471a-af78-070d64e0f9ae",
   "metadata": {
    "executionCancelledAt": 1731004173731,
    "executionTime": 68,
    "lastExecutedAt": 1731003813431,
    "lastExecutedByKernel": "fb4bfd39-2627-44da-bcd8-699e9fee8410",
    "lastScheduledRunId": null,
    "lastSuccessfullyExecutedCode": "crimes['Age Group'] = crimes['Vict Age'].apply(age_group_func)",
    "outputsMetadata": {
     "0": {
      "height": 543,
      "type": "dataFrame"
     }
    }
   },
   "outputs": [],
   "source": [
    "crimes['Age Group'] = crimes['Vict Age'].apply(age_group_func)"
   ]
  },
  {
   "cell_type": "markdown",
   "id": "8014a9dd-a1a3-48c9-8456-5ac11f6fcb51",
   "metadata": {},
   "source": [
    "## **Victim Ages**"
   ]
  },
  {
   "cell_type": "code",
   "execution_count": 16,
   "id": "f95df687-5f30-4c1b-a600-0f36c48c553c",
   "metadata": {
    "executionCancelledAt": 1731004173732,
    "executionTime": 56,
    "lastExecutedAt": 1731003813487,
    "lastExecutedByKernel": "fb4bfd39-2627-44da-bcd8-699e9fee8410",
    "lastScheduledRunId": null,
    "lastSuccessfullyExecutedCode": "victim_ages = crimes['Age Group'].value_counts().sort_values(ascending = False)\nprint(victim_ages, type(victim_ages))",
    "outputsMetadata": {
     "0": {
      "height": 185,
      "type": "stream"
     }
    }
   },
   "outputs": [
    {
     "name": "stdout",
     "output_type": "stream",
     "text": [
      "Age Group\n",
      "26-34    47470\n",
      "35-44    42157\n",
      "45-54    28353\n",
      "18-25    28291\n",
      "55-64    20169\n",
      "65+      14747\n",
      "0-17      4528\n",
      "Name: count, dtype: int64 <class 'pandas.core.series.Series'>\n"
     ]
    }
   ],
   "source": [
    "victim_ages = crimes['Age Group'].value_counts().sort_values(ascending = False)\n",
    "print(victim_ages, type(victim_ages))"
   ]
  },
  {
   "cell_type": "markdown",
   "id": "ea5e8e8a-5032-4343-9f40-797af1826b7a",
   "metadata": {},
   "source": [
    "## **Victim Ages Plot**"
   ]
  },
  {
   "cell_type": "code",
   "execution_count": 19,
   "id": "07833f51-fd6d-43a2-810f-a9dc59487a34",
   "metadata": {
    "executionCancelledAt": 1731004173733,
    "executionTime": 561,
    "lastExecutedAt": 1731003814048,
    "lastExecutedByKernel": "fb4bfd39-2627-44da-bcd8-699e9fee8410",
    "lastScheduledRunId": null,
    "lastSuccessfullyExecutedCode": "order_age_group = crimes['Age Group'].value_counts().index\n\nsns.countplot(data = crimes, x = 'Age Group', hue = 'Age Group', palette = 'viridis',\n             order = order_age_group)"
   },
   "outputs": [
    {
     "data": {
      "text/plain": [
       "<Axes: xlabel='Age Group', ylabel='count'>"
      ]
     },
     "execution_count": 19,
     "metadata": {},
     "output_type": "execute_result"
    },
    {
     "data": {
      "image/png": "[encoded data removed]",
      "text/plain": [
       "<Figure size 640x480 with 1 Axes>"
      ]
     },
     "metadata": {},
     "output_type": "display_data"
    }
   ],
   "source": [
    "order_age_group = crimes['Age Group'].value_counts().index\n",
    "\n",
    "sns.countplot(data = crimes, x = 'Age Group', palette = 'viridis',\n",
    "             order = order_age_group)"
   ]
  },
  {
   "cell_type": "code",
   "execution_count": null,
   "id": "3ac59ffb",
   "metadata": {},
   "outputs": [],
   "source": []
  }
 ],
 "metadata": {
  "colab": {
   "name": "Welcome to DataCamp Workspaces.ipynb",
   "provenance": []
  },
  "kernelspec": {
   "display_name": "base",
   "language": "python",
   "name": "python3"
  },
  "language_info": {
   "codemirror_mode": {
    "name": "ipython",
    "version": 3
   },
   "file_extension": ".py",
   "mimetype": "text/x-python",
   "name": "python",
   "nbconvert_exporter": "python",
   "pygments_lexer": "ipython3",
   "version": "3.11.7"
  }
 },
 "nbformat": 4,
 "nbformat_minor": 5
}
